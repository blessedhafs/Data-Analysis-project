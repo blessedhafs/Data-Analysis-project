{
 "cells": [
  {
   "cell_type": "markdown",
   "id": "9516d591",
   "metadata": {},
   "source": [
    "## HYPOTHESIS TESTING---MEN & WOMEN FIFA WORLD CUP MATCHES\n",
    "\n",
    "You're working as a sports journalist at a major online sports media company, specializing in \n",
    "soccer analysis and reporting. You've been watching both men's and women's international soccer \n",
    "matches for a number of years, and your gut instinct tells you that more goals are scored in women's \n",
    "international football matches than men's. This would make an interesting investigative article that \n",
    "your subscribers are bound to love, but you'll need to perform a valid statistical hypothesis test to \n",
    "be sure! \n",
    "\n",
    "\n",
    "While scoping this project, you acknowledge that the sport has changed a lot over the years, and \n",
    "performances likely vary a lot depending on the tournament, so you decide to limit the data used \n",
    "in the analysis to only official FIFA World Cup matches (not including qualifiers) since 2002-01-01. \n",
    "\n",
    "You create two datasets containing the results of every official men's and women's international \n",
    "football match since the 19th century, which you scraped from a reliable online source. This data \n",
    "is stored in two CSV files: women_results.csv and men_results.csv in a zip file named \n",
    "sport_data.zip. \n",
    "\n",
    "\n",
    "The research question you are trying to determine the answer to is: \n",
    "\n",
    "Are more goals scored in women's international soccer matches than men's? \n",
    "\n",
    "You assume a 10% significance level, and use the following null and alternative hypotheses: \n",
    "\n",
    "H0: The mean number of goals scored in women's international soccer matches is the same as \n",
    "men's. \n",
    "\n",
    "H1: The mean number of goals scored in women's international soccer matches is greater than \n",
    "men's \n"
   ]
  },
  {
   "cell_type": "markdown",
   "id": "83583c08",
   "metadata": {},
   "source": [
    "Task: \n",
    "\n",
    "Perform an appropriate hypothesis test to determine the p-value, and hence result, of whether to \n",
    "reject or fail to reject the null hypothesis that the mean number of goals scored in women's \n",
    "international soccer matches is the same as men's. Use a 10% significance level. \n",
    "\n",
    "For this analysis, \n",
    "you'll use Official FIFA World Cup matches since 2002-01-01, and you'll also assume that each \n",
    "match is fully independent, i.e., team form is ignored. "
   ]
  },
  {
   "cell_type": "code",
   "execution_count": 2,
   "id": "cbb1c336",
   "metadata": {},
   "outputs": [
    {
     "name": "stdout",
     "output_type": "stream",
     "text": [
      "Mean = 2.82\n",
      "SD = 1.93\n"
     ]
    }
   ],
   "source": [
    "# import necessary libraries\n",
    "import pandas as pd\n",
    "men = pd.read_csv(r\"C:\\Users\\USER\\Desktop\\DATA ANALYSIS CLASS\\VSCODE\\DATASET\\PROJECT\\sport_data (2)\\sport_data\\men_results.csv\")\n",
    "men[\"tournament\"].unique() # checks for unique tournament in the data\n",
    "only_fifa = men.query(\"tournament == 'FIFA World Cup'\") # filter to contain only FIFA\n",
    "only_fifa = only_fifa.copy()\n",
    "only_fifa[\"grand_score\" ]= only_fifa.iloc[:,[4,5]].sum(axis = 1) # adds both home and away scores in the data\n",
    "m_mean = only_fifa[\"grand_score\"].mean()\n",
    "print(f\"Mean = {m_mean:.2f}\\nSD = {(only_fifa[\"grand_score\"].std()):.2f}\")\n",
    "\n"
   ]
  },
  {
   "cell_type": "code",
   "execution_count": 3,
   "id": "c633544f",
   "metadata": {},
   "outputs": [
    {
     "name": "stdout",
     "output_type": "stream",
     "text": [
      "Mean = 3.23\n",
      "SD = 2.06\n"
     ]
    }
   ],
   "source": [
    "women = pd.read_csv(r\"C:\\Users\\USER\\Desktop\\DATA ANALYSIS CLASS\\VSCODE\\DATASET\\PROJECT\\sport_data (2)\\sport_data\\women_results.csv\")\n",
    "women[\"tournament\"]\n",
    "f_fifa = women.query(\"tournament == 'FIFA World Cup'\")\n",
    "f_fifa = f_fifa.copy()\n",
    "f_fifa[\"grand_score\"] = f_fifa.loc[:, [\"home_score\", \"away_score\"]].sum(axis = 1)\n",
    "f_mean = f_fifa[\"grand_score\"].mean()\n",
    "print(f\"Mean = {f_mean:.2f}\\nSD = {(f_fifa[\"grand_score\"].std()):.2f}\")\n"
   ]
  },
  {
   "cell_type": "markdown",
   "id": "68f468a4",
   "metadata": {},
   "source": [
    "H0: The mean number of goals scored in women's international soccer matches is the same as \n",
    "men's. \n",
    "\n",
    "H1: The mean number of goals scored in women's international soccer matches is greater than \n",
    "men's "
   ]
  },
  {
   "cell_type": "code",
   "execution_count": 4,
   "id": "12abd33d",
   "metadata": {},
   "outputs": [
    {
     "name": "stdout",
     "output_type": "stream",
     "text": [
      "Statistic: -3.080149622302865\n",
      "Pvalue: 0.002114261290133323\n"
     ]
    }
   ],
   "source": [
    "import scipy.stats as st\n",
    "result = st.ttest_ind(only_fifa[\"grand_score\"], f_fifa[\"grand_score\"]) # carry out an independent sampe ttest\n",
    "statistics = result[0]\n",
    "pval = result[1]\n",
    "print(f\"Statistic: {result[0]}\\nPvalue: {result[1]}\")\n",
    "\n",
    "# pval is less that 0.1 hence, we reject the null hypothesis"
   ]
  },
  {
   "cell_type": "code",
   "execution_count": 48,
   "id": "09032005",
   "metadata": {},
   "outputs": [
    {
     "data": {
      "text/html": [
       "<div>\n",
       "<style scoped>\n",
       "    .dataframe tbody tr th:only-of-type {\n",
       "        vertical-align: middle;\n",
       "    }\n",
       "\n",
       "    .dataframe tbody tr th {\n",
       "        vertical-align: top;\n",
       "    }\n",
       "\n",
       "    .dataframe thead th {\n",
       "        text-align: right;\n",
       "    }\n",
       "</style>\n",
       "<table border=\"1\" class=\"dataframe\">\n",
       "  <thead>\n",
       "    <tr style=\"text-align: right;\">\n",
       "      <th></th>\n",
       "      <th>Gender</th>\n",
       "      <th>Unnamed: 0</th>\n",
       "      <th>date</th>\n",
       "      <th>home_team</th>\n",
       "      <th>away_team</th>\n",
       "      <th>home_score</th>\n",
       "      <th>away_score</th>\n",
       "      <th>tournament</th>\n",
       "      <th>grand_score</th>\n",
       "    </tr>\n",
       "  </thead>\n",
       "  <tbody>\n",
       "    <tr>\n",
       "      <th>1311</th>\n",
       "      <td>Men</td>\n",
       "      <td>1311</td>\n",
       "      <td>1930-07-13</td>\n",
       "      <td>Belgium</td>\n",
       "      <td>United States</td>\n",
       "      <td>0</td>\n",
       "      <td>3</td>\n",
       "      <td>FIFA World Cup</td>\n",
       "      <td>3</td>\n",
       "    </tr>\n",
       "    <tr>\n",
       "      <th>1312</th>\n",
       "      <td>Men</td>\n",
       "      <td>1312</td>\n",
       "      <td>1930-07-13</td>\n",
       "      <td>France</td>\n",
       "      <td>Mexico</td>\n",
       "      <td>4</td>\n",
       "      <td>1</td>\n",
       "      <td>FIFA World Cup</td>\n",
       "      <td>5</td>\n",
       "    </tr>\n",
       "    <tr>\n",
       "      <th>1313</th>\n",
       "      <td>Men</td>\n",
       "      <td>1313</td>\n",
       "      <td>1930-07-14</td>\n",
       "      <td>Brazil</td>\n",
       "      <td>Yugoslavia</td>\n",
       "      <td>1</td>\n",
       "      <td>2</td>\n",
       "      <td>FIFA World Cup</td>\n",
       "      <td>3</td>\n",
       "    </tr>\n",
       "    <tr>\n",
       "      <th>1314</th>\n",
       "      <td>Men</td>\n",
       "      <td>1314</td>\n",
       "      <td>1930-07-14</td>\n",
       "      <td>Peru</td>\n",
       "      <td>Romania</td>\n",
       "      <td>1</td>\n",
       "      <td>3</td>\n",
       "      <td>FIFA World Cup</td>\n",
       "      <td>4</td>\n",
       "    </tr>\n",
       "    <tr>\n",
       "      <th>1315</th>\n",
       "      <td>Men</td>\n",
       "      <td>1315</td>\n",
       "      <td>1930-07-15</td>\n",
       "      <td>Argentina</td>\n",
       "      <td>France</td>\n",
       "      <td>1</td>\n",
       "      <td>0</td>\n",
       "      <td>FIFA World Cup</td>\n",
       "      <td>1</td>\n",
       "    </tr>\n",
       "  </tbody>\n",
       "</table>\n",
       "</div>"
      ],
      "text/plain": [
       "     Gender  Unnamed: 0        date  home_team      away_team  home_score  \\\n",
       "1311    Men        1311  1930-07-13    Belgium  United States           0   \n",
       "1312    Men        1312  1930-07-13     France         Mexico           4   \n",
       "1313    Men        1313  1930-07-14     Brazil     Yugoslavia           1   \n",
       "1314    Men        1314  1930-07-14       Peru        Romania           1   \n",
       "1315    Men        1315  1930-07-15  Argentina         France           1   \n",
       "\n",
       "      away_score      tournament  grand_score  \n",
       "1311           3  FIFA World Cup            3  \n",
       "1312           1  FIFA World Cup            5  \n",
       "1313           2  FIFA World Cup            3  \n",
       "1314           3  FIFA World Cup            4  \n",
       "1315           0  FIFA World Cup            1  "
      ]
     },
     "execution_count": 48,
     "metadata": {},
     "output_type": "execute_result"
    }
   ],
   "source": [
    "new_data = pd.concat([only_fifa, f_fifa], keys = [\"Men\", \"Women\"]) # combines both dataset\n",
    "sport_data  = new_data.reset_index(level = [0]) # resets to a single index\n",
    "sport_data = sport_data.rename(columns = {\"level_0\": \"Gender\"}) \n",
    "sport_data.head()"
   ]
  },
  {
   "cell_type": "code",
   "execution_count": 54,
   "id": "a82c101c",
   "metadata": {},
   "outputs": [
    {
     "data": {
      "text/plain": [
       "<Axes: xlabel='Gender', ylabel='grand_score'>"
      ]
     },
     "execution_count": 54,
     "metadata": {},
     "output_type": "execute_result"
    },
    {
     "data": {
      "image/png": "[encoded data removed]",
      "text/plain": [
       "<Figure size 1000x500 with 1 Axes>"
      ]
     },
     "metadata": {},
     "output_type": "display_data"
    }
   ],
   "source": [
    "import seaborn as sns\n",
    "import matplotlib.pyplot as plt\n",
    "plt.figure(figsize=(10,5))\n",
    "sns.pointplot(data = sport_data, x= \"Gender\", y = \"grand_score\", errorbar=None, color = \"g\")\n",
    "\n",
    "# The pointplot shows the difference in mean scores of both women and men"
   ]
  },
  {
   "cell_type": "markdown",
   "id": "cb0f6332",
   "metadata": {},
   "source": [
    "## Analysis result\n",
    "\n",
    "An independent samples t-test was conducted to examine if more goals are scored in women's \n",
    "international soccer matches than men's.\n",
    "The analysis revealed a statistically significant difference in the number of goals \n",
    "scored between men and women's international soccer matches. Women's international \n",
    "soccer team(M = 3.23, SD= 2.06) had significantly higher number of goals scored \n",
    "compared to men (M =2.82, SD= 1.92 ), with a mean difference of 0.41 as shown in the plot above.\n",
    "\n",
    "Therefore, the null hypothesis is **not accepted** This implies \n",
    "that more goals are scored in women's \n",
    "international football matches than men's."
   ]
  }
 ],
 "metadata": {
  "kernelspec": {
   "display_name": "Python 3",
   "language": "python",
   "name": "python3"
  },
  "language_info": {
   "codemirror_mode": {
    "name": "ipython",
    "version": 3
   },
   "file_extension": ".py",
   "mimetype": "text/x-python",
   "name": "python",
   "nbconvert_exporter": "python",
   "pygments_lexer": "ipython3",
   "version": "3.13.0"
  }
 },
 "nbformat": 4,
 "nbformat_minor": 5
}
