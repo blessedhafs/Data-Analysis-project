{
 "cells": [
  {
   "cell_type": "markdown",
   "id": "369b3092",
   "metadata": {},
   "source": [
    "## EXPLORING AIRBNB MARKET TREND"
   ]
  },
  {
   "cell_type": "markdown",
   "id": "4eed221a",
   "metadata": {},
   "source": [
    "Welcome to New York City, one of the most-visited cities in the world. There are many Airbnb \n",
    "listings in New York City to meet the high demand for temporary lodging for travelers, which can \n",
    "be anywhere between a few nights to many months. In this project, you will take a closer look at \n",
    "the New York Airbnb market by combining data from multiple file types like .csv, .tsv, and .xlsx. \n",
    "Recall that CSV, TSV, and Excel files are three common formats for storing data. Three files \n",
    "containing data on 2019 Airbnb listings are available to you and compressed into a zip file named \n",
    "‘airbnb_market.zip’: "
   ]
  },
  {
   "cell_type": "code",
   "execution_count": 2,
   "id": "b5f0ba87",
   "metadata": {},
   "outputs": [],
   "source": [
    "# import necessary libraries and load all dataset\n",
    "\n",
    "import pandas as pd\n",
    "price = pd.read_csv(r\"C:\\Users\\USER\\Desktop\\DATA ANALYSIS CLASS\\VSCODE\\DATASET\\PROJECT\\airbnb_market\\data\\airbnb_price.csv\")\n",
    "rt = pd.read_excel(r\"C:\\Users\\USER\\Desktop\\DATA ANALYSIS CLASS\\VSCODE\\DATASET\\PROJECT\\airbnb_market\\data\\airbnb_room_type.xlsx\")\n",
    "review = pd.read_table(r\"C:\\Users\\USER\\Desktop\\DATA ANALYSIS CLASS\\VSCODE\\DATASET\\PROJECT\\airbnb_market\\data\\airbnb_last_review.tsv\")"
   ]
  },
  {
   "cell_type": "code",
   "execution_count": null,
   "id": "d89aa769",
   "metadata": {},
   "outputs": [
    {
     "data": {
      "text/html": [
       "<div>\n",
       "<style scoped>\n",
       "    .dataframe tbody tr th:only-of-type {\n",
       "        vertical-align: middle;\n",
       "    }\n",
       "\n",
       "    .dataframe tbody tr th {\n",
       "        vertical-align: top;\n",
       "    }\n",
       "\n",
       "    .dataframe thead th {\n",
       "        text-align: right;\n",
       "    }\n",
       "</style>\n",
       "<table border=\"1\" class=\"dataframe\">\n",
       "  <thead>\n",
       "    <tr style=\"text-align: right;\">\n",
       "      <th></th>\n",
       "      <th>listing_id</th>\n",
       "      <th>price</th>\n",
       "      <th>nbhood_full</th>\n",
       "      <th>description</th>\n",
       "      <th>room_type</th>\n",
       "      <th>host_name</th>\n",
       "      <th>last_review</th>\n",
       "    </tr>\n",
       "  </thead>\n",
       "  <tbody>\n",
       "    <tr>\n",
       "      <th>0</th>\n",
       "      <td>2595</td>\n",
       "      <td>225 dollars</td>\n",
       "      <td>Manhattan, Midtown</td>\n",
       "      <td>Skylit Midtown Castle</td>\n",
       "      <td>Entire home/apt</td>\n",
       "      <td>Jennifer</td>\n",
       "      <td>May 21 2019</td>\n",
       "    </tr>\n",
       "    <tr>\n",
       "      <th>1</th>\n",
       "      <td>3831</td>\n",
       "      <td>89 dollars</td>\n",
       "      <td>Brooklyn, Clinton Hill</td>\n",
       "      <td>Cozy Entire Floor of Brownstone</td>\n",
       "      <td>Entire home/apt</td>\n",
       "      <td>LisaRoxanne</td>\n",
       "      <td>July 05 2019</td>\n",
       "    </tr>\n",
       "    <tr>\n",
       "      <th>2</th>\n",
       "      <td>5099</td>\n",
       "      <td>200 dollars</td>\n",
       "      <td>Manhattan, Murray Hill</td>\n",
       "      <td>Large Cozy 1 BR Apartment In Midtown East</td>\n",
       "      <td>Entire home/apt</td>\n",
       "      <td>Chris</td>\n",
       "      <td>June 22 2019</td>\n",
       "    </tr>\n",
       "    <tr>\n",
       "      <th>3</th>\n",
       "      <td>5178</td>\n",
       "      <td>79 dollars</td>\n",
       "      <td>Manhattan, Hell's Kitchen</td>\n",
       "      <td>Large Furnished Room Near B'way</td>\n",
       "      <td>private room</td>\n",
       "      <td>Shunichi</td>\n",
       "      <td>June 24 2019</td>\n",
       "    </tr>\n",
       "    <tr>\n",
       "      <th>4</th>\n",
       "      <td>5238</td>\n",
       "      <td>150 dollars</td>\n",
       "      <td>Manhattan, Chinatown</td>\n",
       "      <td>Cute &amp; Cozy Lower East Side 1 bdrm</td>\n",
       "      <td>Entire home/apt</td>\n",
       "      <td>Ben</td>\n",
       "      <td>June 09 2019</td>\n",
       "    </tr>\n",
       "    <tr>\n",
       "      <th>...</th>\n",
       "      <td>...</td>\n",
       "      <td>...</td>\n",
       "      <td>...</td>\n",
       "      <td>...</td>\n",
       "      <td>...</td>\n",
       "      <td>...</td>\n",
       "      <td>...</td>\n",
       "    </tr>\n",
       "    <tr>\n",
       "      <th>25204</th>\n",
       "      <td>36425863</td>\n",
       "      <td>129 dollars</td>\n",
       "      <td>Manhattan, Upper East Side</td>\n",
       "      <td>Lovely Privet Bedroom with Privet Restroom</td>\n",
       "      <td>PRIVATE ROOM</td>\n",
       "      <td>Rusaa</td>\n",
       "      <td>July 07 2019</td>\n",
       "    </tr>\n",
       "    <tr>\n",
       "      <th>25205</th>\n",
       "      <td>36427429</td>\n",
       "      <td>45 dollars</td>\n",
       "      <td>Queens, Flushing</td>\n",
       "      <td>No.2 with queen size bed</td>\n",
       "      <td>PRIVATE ROOM</td>\n",
       "      <td>H Ai</td>\n",
       "      <td>July 07 2019</td>\n",
       "    </tr>\n",
       "    <tr>\n",
       "      <th>25206</th>\n",
       "      <td>36438336</td>\n",
       "      <td>235 dollars</td>\n",
       "      <td>Staten Island, Great Kills</td>\n",
       "      <td>Seas The Moment</td>\n",
       "      <td>Private room</td>\n",
       "      <td>Ben</td>\n",
       "      <td>July 07 2019</td>\n",
       "    </tr>\n",
       "    <tr>\n",
       "      <th>25207</th>\n",
       "      <td>36442252</td>\n",
       "      <td>100 dollars</td>\n",
       "      <td>Bronx, Mott Haven</td>\n",
       "      <td>1B-1B apartment near by Metro</td>\n",
       "      <td>Entire home/apt</td>\n",
       "      <td>Blaine</td>\n",
       "      <td>July 07 2019</td>\n",
       "    </tr>\n",
       "    <tr>\n",
       "      <th>25208</th>\n",
       "      <td>36455809</td>\n",
       "      <td>30 dollars</td>\n",
       "      <td>Brooklyn, Bushwick</td>\n",
       "      <td>Cozy Private Room in Bushwick, Brooklyn</td>\n",
       "      <td>Private room</td>\n",
       "      <td>Christine</td>\n",
       "      <td>July 08 2019</td>\n",
       "    </tr>\n",
       "  </tbody>\n",
       "</table>\n",
       "<p>25209 rows × 7 columns</p>\n",
       "</div>"
      ],
      "text/plain": [
       "       listing_id        price                 nbhood_full  \\\n",
       "0            2595  225 dollars          Manhattan, Midtown   \n",
       "1            3831   89 dollars      Brooklyn, Clinton Hill   \n",
       "2            5099  200 dollars      Manhattan, Murray Hill   \n",
       "3            5178   79 dollars   Manhattan, Hell's Kitchen   \n",
       "4            5238  150 dollars        Manhattan, Chinatown   \n",
       "...           ...          ...                         ...   \n",
       "25204    36425863  129 dollars  Manhattan, Upper East Side   \n",
       "25205    36427429   45 dollars            Queens, Flushing   \n",
       "25206    36438336  235 dollars  Staten Island, Great Kills   \n",
       "25207    36442252  100 dollars           Bronx, Mott Haven   \n",
       "25208    36455809   30 dollars          Brooklyn, Bushwick   \n",
       "\n",
       "                                      description        room_type  \\\n",
       "0                           Skylit Midtown Castle  Entire home/apt   \n",
       "1                 Cozy Entire Floor of Brownstone  Entire home/apt   \n",
       "2       Large Cozy 1 BR Apartment In Midtown East  Entire home/apt   \n",
       "3                 Large Furnished Room Near B'way     private room   \n",
       "4              Cute & Cozy Lower East Side 1 bdrm  Entire home/apt   \n",
       "...                                           ...              ...   \n",
       "25204  Lovely Privet Bedroom with Privet Restroom     PRIVATE ROOM   \n",
       "25205                    No.2 with queen size bed     PRIVATE ROOM   \n",
       "25206                             Seas The Moment     Private room   \n",
       "25207               1B-1B apartment near by Metro  Entire home/apt   \n",
       "25208     Cozy Private Room in Bushwick, Brooklyn     Private room   \n",
       "\n",
       "         host_name   last_review  \n",
       "0         Jennifer   May 21 2019  \n",
       "1      LisaRoxanne  July 05 2019  \n",
       "2            Chris  June 22 2019  \n",
       "3         Shunichi  June 24 2019  \n",
       "4              Ben  June 09 2019  \n",
       "...            ...           ...  \n",
       "25204        Rusaa  July 07 2019  \n",
       "25205         H Ai  July 07 2019  \n",
       "25206          Ben  July 07 2019  \n",
       "25207       Blaine  July 07 2019  \n",
       "25208    Christine  July 08 2019  \n",
       "\n",
       "[25209 rows x 7 columns]"
      ]
     },
     "execution_count": 3,
     "metadata": {},
     "output_type": "execute_result"
    }
   ],
   "source": [
    "# merge all dataset based on unique identifier\n",
    "price_join = price.merge(rt, on = \"listing_id\", how = \"outer\")\n",
    "airbnb_data = price_join.merge(review, on = \"listing_id\", how = \"outer\")\n",
    "airbnb_data\n"
   ]
  },
  {
   "cell_type": "markdown",
   "id": "58ab002e",
   "metadata": {},
   "source": [
    "TASKS: \n",
    "\n",
    "As a consultant working for a real estate start-up, you have collected Airbnb listing data from \n",
    "various sources to investigate the short-term rental market in New York. You'll analyze this data \n",
    "to provide insights on private rooms to the real estate company. \n",
    "\n",
    "• What are the dates of the earliest and most recent reviews? Store these values as two \n",
    "separate variables with your preferred names."
   ]
  },
  {
   "cell_type": "code",
   "execution_count": 25,
   "id": "fed14087",
   "metadata": {},
   "outputs": [
    {
     "data": {
      "text/plain": [
       "'July 09 2019'"
      ]
     },
     "execution_count": 25,
     "metadata": {},
     "output_type": "execute_result"
    }
   ],
   "source": [
    "# What are the dates of the earliest and most recent reviews? Store these values as two \n",
    "# separate variables with your preferred names\n",
    "\n",
    "airbnb_data[\"last_review\"] = pd.to_datetime(airbnb_data[\"last_review\"]) # converts to datetime\n",
    "airbnb_data.dtypes\n",
    "sorted_air = airbnb_data.sort_values(by = \"last_review\")\n",
    "earliest_date = sorted_air.iloc[0,6]\n",
    "earliest_date = earliest_date.strftime(\"%B %d %Y\") # CHANGE TO STRING FORMAT\n",
    "earliest_date\n",
    "\n",
    "latest_date = sorted_air.iloc[-1,6]\n",
    "latest_date = latest_date.strftime(\"%B %d %Y\") # Change to string format\n",
    "latest_date\n",
    "\n",
    "# Earliest date is January 01, 2019 \n",
    "# Recent date is July 09, 2019\n",
    "\n"
   ]
  },
  {
   "cell_type": "markdown",
   "id": "e795dcd1",
   "metadata": {},
   "source": [
    "• How many of the listings are private rooms? Save this into any variable. "
   ]
  },
  {
   "cell_type": "code",
   "execution_count": 18,
   "id": "21950feb",
   "metadata": {},
   "outputs": [
    {
     "data": {
      "text/plain": [
       "np.int64(11356)"
      ]
     },
     "execution_count": 18,
     "metadata": {},
     "output_type": "execute_result"
    }
   ],
   "source": [
    "# How many of the listings are private rooms? Save this into any variable.\n",
    "airbnb_data[\"room_type\"].unique() # identifies unique room type\n",
    "airbnb_data[\"new room_type\"] = airbnb_data[\"room_type\"].str.lower()\n",
    "room_group = airbnb_data.groupby(\"new room_type\")[\"new room_type\"].count()\n",
    "room_group\n",
    "num_private_room = room_group.iloc[1]\n",
    "num_private_room\n",
    "\n",
    "# number of private room is 11356"
   ]
  },
  {
   "cell_type": "markdown",
   "id": "51a52153",
   "metadata": {},
   "source": [
    "• What is the average listing price? Round to the nearest two decimal places and save into a \n",
    "variable. "
   ]
  },
  {
   "cell_type": "code",
   "execution_count": 19,
   "id": "5f0c4a48",
   "metadata": {},
   "outputs": [
    {
     "data": {
      "text/plain": [
       "'141.78 dollars'"
      ]
     },
     "execution_count": 19,
     "metadata": {},
     "output_type": "execute_result"
    }
   ],
   "source": [
    "# What is the average listing price? Round to the nearest two decimal places and save into a \n",
    "# variable\n",
    "airbnb_data\n",
    "airbnb_data[\"new_price\"] = airbnb_data[\"price\"].map(lambda x: x[:x.find(\" \")]).astype(int) # creates a new column with integer datatype\n",
    "airbnb_data\n",
    "avg_listing_price = (f\"{airbnb_data[\"new_price\"].mean():.2f} dollars\") # format to string\n",
    "avg_listing_price\n",
    "\n",
    "# The average listing price is 141.78 dollars"
   ]
  },
  {
   "cell_type": "markdown",
   "id": "fe52229f",
   "metadata": {},
   "source": [
    "• Combine the new variables into one DataFrame called review_dates with four columns in \n",
    "the following order: first_reviewed, last_reviewed, nb_private_rooms, and avg_price. The \n",
    "DataFrame should only contain one row of values. "
   ]
  },
  {
   "cell_type": "code",
   "execution_count": 20,
   "id": "903a2c33",
   "metadata": {},
   "outputs": [
    {
     "data": {
      "text/html": [
       "<div>\n",
       "<style scoped>\n",
       "    .dataframe tbody tr th:only-of-type {\n",
       "        vertical-align: middle;\n",
       "    }\n",
       "\n",
       "    .dataframe tbody tr th {\n",
       "        vertical-align: top;\n",
       "    }\n",
       "\n",
       "    .dataframe thead th {\n",
       "        text-align: right;\n",
       "    }\n",
       "</style>\n",
       "<table border=\"1\" class=\"dataframe\">\n",
       "  <thead>\n",
       "    <tr style=\"text-align: right;\">\n",
       "      <th></th>\n",
       "      <th>first_reviewed</th>\n",
       "      <th>last_reviewed</th>\n",
       "      <th>nb_private_rooms</th>\n",
       "      <th>avg_price</th>\n",
       "    </tr>\n",
       "  </thead>\n",
       "  <tbody>\n",
       "    <tr>\n",
       "      <th>0</th>\n",
       "      <td>January 01 2019</td>\n",
       "      <td>July 09 2019</td>\n",
       "      <td>11356</td>\n",
       "      <td>141.78 dollars</td>\n",
       "    </tr>\n",
       "  </tbody>\n",
       "</table>\n",
       "</div>"
      ],
      "text/plain": [
       "    first_reviewed last_reviewed  nb_private_rooms       avg_price\n",
       "0  January 01 2019  July 09 2019             11356  141.78 dollars"
      ]
     },
     "execution_count": 20,
     "metadata": {},
     "output_type": "execute_result"
    }
   ],
   "source": [
    "# Combine the new variables into one DataFrame called review_dates with four columns in \n",
    "# the following order: first_reviewed, last_reviewed, nb_private_rooms, and avg_price. The \n",
    "# DataFrame should only contain one row of values\n",
    "\n",
    "review_dict = {\"first_reviewed\": [earliest_date], \"last_reviewed\": [latest_date], \"nb_private_rooms\": [num_private_room], \"avg_price\": [avg_listing_price]}\n",
    "review_dates = pd.DataFrame(review_dict)\n",
    "review_dates\n"
   ]
  }
 ],
 "metadata": {
  "kernelspec": {
   "display_name": "Python 3",
   "language": "python",
   "name": "python3"
  },
  "language_info": {
   "codemirror_mode": {
    "name": "ipython",
    "version": 3
   },
   "file_extension": ".py",
   "mimetype": "text/x-python",
   "name": "python",
   "nbconvert_exporter": "python",
   "pygments_lexer": "ipython3",
   "version": "3.13.0"
  }
 },
 "nbformat": 4,
 "nbformat_minor": 5
}
