{
 "cells": [
  {
   "cell_type": "markdown",
   "id": "9b627cee",
   "metadata": {},
   "source": [
    "# IMPORTANCE OF HANDWASHING \n",
    "\n",
    "Hungarian physician Dr. Ignaz Semmelweis worked at the Vienna General Hospital with childbed \n",
    "fever patients. Childbed fever is a deadly disease affecting women who have just given birth, and \n",
    "in the early 1840s, as many as 10% of the women giving birth died from it at the Vienna General \n",
    "Hospital. \n",
    "\n",
    "Dr.Semmelweis discovered that it was the contaminated hands of the doctors delivering \n",
    "the babies, and on June 1st, 1847, he decreed that everyone should wash their hands, an unorthodox \n",
    "and controversial request; nobody in Vienna knew about bacteria.\n",
    "\n",
    "You will reanalyze the data that made Semmelweis discover the importance of handwashing and \n",
    "its impact on the hospital and the number of deaths. "
   ]
  },
  {
   "cell_type": "code",
   "execution_count": 1,
   "id": "64454871",
   "metadata": {},
   "outputs": [
    {
     "data": {
      "text/html": [
       "<div>\n",
       "<style scoped>\n",
       "    .dataframe tbody tr th:only-of-type {\n",
       "        vertical-align: middle;\n",
       "    }\n",
       "\n",
       "    .dataframe tbody tr th {\n",
       "        vertical-align: top;\n",
       "    }\n",
       "\n",
       "    .dataframe thead th {\n",
       "        text-align: right;\n",
       "    }\n",
       "</style>\n",
       "<table border=\"1\" class=\"dataframe\">\n",
       "  <thead>\n",
       "    <tr style=\"text-align: right;\">\n",
       "      <th></th>\n",
       "      <th>date</th>\n",
       "      <th>births</th>\n",
       "      <th>deaths</th>\n",
       "    </tr>\n",
       "  </thead>\n",
       "  <tbody>\n",
       "    <tr>\n",
       "      <th>0</th>\n",
       "      <td>1841-01-01</td>\n",
       "      <td>254</td>\n",
       "      <td>37</td>\n",
       "    </tr>\n",
       "    <tr>\n",
       "      <th>1</th>\n",
       "      <td>1841-02-01</td>\n",
       "      <td>239</td>\n",
       "      <td>18</td>\n",
       "    </tr>\n",
       "    <tr>\n",
       "      <th>2</th>\n",
       "      <td>1841-03-01</td>\n",
       "      <td>277</td>\n",
       "      <td>12</td>\n",
       "    </tr>\n",
       "    <tr>\n",
       "      <th>3</th>\n",
       "      <td>1841-04-01</td>\n",
       "      <td>255</td>\n",
       "      <td>4</td>\n",
       "    </tr>\n",
       "    <tr>\n",
       "      <th>4</th>\n",
       "      <td>1841-05-01</td>\n",
       "      <td>255</td>\n",
       "      <td>2</td>\n",
       "    </tr>\n",
       "  </tbody>\n",
       "</table>\n",
       "</div>"
      ],
      "text/plain": [
       "         date  births  deaths\n",
       "0  1841-01-01     254      37\n",
       "1  1841-02-01     239      18\n",
       "2  1841-03-01     277      12\n",
       "3  1841-04-01     255       4\n",
       "4  1841-05-01     255       2"
      ]
     },
     "execution_count": 1,
     "metadata": {},
     "output_type": "execute_result"
    }
   ],
   "source": [
    "# import necessary libraries and load dataset\n",
    "import pandas as pd\n",
    "import matplotlib.pyplot as plt\n",
    "import seaborn as sns\n",
    "\n",
    "yrly_deaths = pd.read_csv(r\"C:\\Users\\USER\\Desktop\\DATA ANALYSIS CLASS\\VSCODE\\DATASET\\PROJECT\\birth_death\\birth_death\\yearly_deaths_by_clinic.csv\")\n",
    "monthly_deaths = pd.read_csv(r\"C:\\Users\\USER\\Desktop\\DATA ANALYSIS CLASS\\VSCODE\\DATASET\\PROJECT\\birth_death\\birth_death\\monthly_deaths.csv\")\n",
    "monthly_deaths.head()"
   ]
  },
  {
   "cell_type": "markdown",
   "id": "24eef1a4",
   "metadata": {},
   "source": [
    "Objective of your analysis: \n",
    "\n",
    "• To determine the year that had the highest yearly proportion of deaths at each clinic through \n",
    "visualization "
   ]
  },
  {
   "cell_type": "code",
   "execution_count": null,
   "id": "81f12c1d",
   "metadata": {},
   "outputs": [
    {
     "data": {
      "text/plain": [
       "<Axes: xlabel='clinic,year'>"
      ]
     },
     "execution_count": 10,
     "metadata": {},
     "output_type": "execute_result"
    },
    {
     "data": {
      "image/png": "[encoded data removed]",
      "text/plain": [
       "<Figure size 640x480 with 1 Axes>"
      ]
     },
     "metadata": {},
     "output_type": "display_data"
    }
   ],
   "source": [
    "# Calculate death proportion\n",
    "yrly_deaths['death_proportion'] = yrly_deaths['deaths'] / yrly_deaths['births']\n",
    "\n",
    "# Group by year and clinic\n",
    "by_clinic = yrly_deaths.groupby([\"clinic\", 'year',])['death_proportion'].sum()\n",
    "by_clinic\n",
    "\n",
    "# Find the max proportion per clinic with a bar plot\n",
    "by_clinic.plot(kind= \"bar\")\n",
    "\n",
    "# The plot below shows that for both clinic 1 and 2, year 1842 had the highest yearly proportion of deaths"
   ]
  },
  {
   "cell_type": "markdown",
   "id": "4e0e9141",
   "metadata": {},
   "source": [
    "• To determine the mean proportions of deaths before and after handwashing from the \n",
    "monthly data. \n",
    "\n",
    "(Store the result as a 2x2 DataFrame named monthly_summary with the first \n",
    "column, handwashing_started, being a boolean flag and the second column having the \n",
    "mean proportion of deaths). "
   ]
  },
  {
   "cell_type": "code",
   "execution_count": 12,
   "id": "13a50d4f",
   "metadata": {},
   "outputs": [
    {
     "data": {
      "text/html": [
       "<div>\n",
       "<style scoped>\n",
       "    .dataframe tbody tr th:only-of-type {\n",
       "        vertical-align: middle;\n",
       "    }\n",
       "\n",
       "    .dataframe tbody tr th {\n",
       "        vertical-align: top;\n",
       "    }\n",
       "\n",
       "    .dataframe thead th {\n",
       "        text-align: right;\n",
       "    }\n",
       "</style>\n",
       "<table border=\"1\" class=\"dataframe\">\n",
       "  <thead>\n",
       "    <tr style=\"text-align: right;\">\n",
       "      <th></th>\n",
       "      <th>Handwashing_started</th>\n",
       "      <th>mean proportion</th>\n",
       "    </tr>\n",
       "  </thead>\n",
       "  <tbody>\n",
       "    <tr>\n",
       "      <th>0</th>\n",
       "      <td>False</td>\n",
       "      <td>0.104605</td>\n",
       "    </tr>\n",
       "    <tr>\n",
       "      <th>1</th>\n",
       "      <td>True</td>\n",
       "      <td>0.020909</td>\n",
       "    </tr>\n",
       "  </tbody>\n",
       "</table>\n",
       "</div>"
      ],
      "text/plain": [
       "   Handwashing_started  mean proportion\n",
       "0                False         0.104605\n",
       "1                 True         0.020909"
      ]
     },
     "execution_count": 12,
     "metadata": {},
     "output_type": "execute_result"
    }
   ],
   "source": [
    "monthly_deaths = pd.read_csv(r\"C:\\Users\\USER\\Desktop\\DATA ANALYSIS CLASS\\VSCODE\\DATASET\\PROJECT\\birth_death\\birth_death\\monthly_deaths.csv\")\n",
    "monthly_deaths[\"date\"] = pd.to_datetime(monthly_deaths[\"date\"])\n",
    "monthly_deaths\n",
    "\n",
    "# calculate the death proportion\n",
    "monthly_deaths[\"death proportion\"] = (monthly_deaths[\"deaths\"]/monthly_deaths[\"births\"]).round(2)\n",
    "\n",
    "# Handwash started from June 1st 1847\n",
    "# extract data before the start\n",
    "before = monthly_deaths.query(\"date < '1847-06-01'\")\n",
    "\n",
    "# extract data after the start\n",
    "after = monthly_deaths.query(\"date >= '1847-06-01'\")\n",
    "\n",
    "# calculate the mean for before and after\n",
    "\n",
    "mean_prop = pd.DataFrame({\"Handwashing_started\": [False, True], \n",
    "                          \"mean proportion\": [before[\"death proportion\"].mean(), after[\"death proportion\"].mean()]})\n",
    "mean_prop"
   ]
  },
  {
   "cell_type": "markdown",
   "id": "c0d7ab3a",
   "metadata": {},
   "source": [
    "• To analyze the difference in the mean monthly proportion of deaths before and after the \n",
    "introduction of handwashing  "
   ]
  },
  {
   "cell_type": "code",
   "execution_count": null,
   "id": "edef3c26",
   "metadata": {},
   "outputs": [
    {
     "data": {
      "text/plain": [
       "Text(0.5, 1.0, 'Mean monthly proportion of deaths at clinic 1, Vienna General Hospital')"
      ]
     },
     "execution_count": 13,
     "metadata": {},
     "output_type": "execute_result"
    },
    {
     "data": {
      "image/png": "[encoded data removed]",
      "text/plain": [
       "<Figure size 640x480 with 1 Axes>"
      ]
     },
     "metadata": {},
     "output_type": "display_data"
    }
   ],
   "source": [
    "sns.pointplot(data = mean_prop, x = \"Handwashing_started\" , y = \"mean proportion\", errorbar= None)\n",
    "plt.title(\"Mean monthly proportion of deaths at clinic 1, Vienna General Hospital\", fontsize = 11)"
   ]
  },
  {
   "cell_type": "markdown",
   "id": "cad2d9eb",
   "metadata": {},
   "source": [
    "# Analysis Result\n",
    "\n",
    "The point plot of the mean monthly proportion of deaths among women due to childbirth fever reveals a significant drop at Vienna General Hospital following the introduction of handwashing by Dr. Semmelweis on June 1st, 1847. \n",
    "\n",
    "The death proportion, which had exceeded 10% prior to the implementation of handwashing, fell to approximately 2%. This decline shows the critical importance of this strategy and its  positive impact on hospital outcomes."
   ]
  }
 ],
 "metadata": {
  "kernelspec": {
   "display_name": "Python 3",
   "language": "python",
   "name": "python3"
  },
  "language_info": {
   "codemirror_mode": {
    "name": "ipython",
    "version": 3
   },
   "file_extension": ".py",
   "mimetype": "text/x-python",
   "name": "python",
   "nbconvert_exporter": "python",
   "pygments_lexer": "ipython3",
   "version": "3.13.0"
  }
 },
 "nbformat": 4,
 "nbformat_minor": 5
}
